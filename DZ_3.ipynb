{
 "cells": [
  {
   "cell_type": "code",
   "execution_count": 1,
   "metadata": {},
   "outputs": [],
   "source": [
    "# Загружаем бибилиотеку для работы с математикой\n",
    "import numpy as np"
   ]
  },
  {
   "cell_type": "code",
   "execution_count": 190,
   "metadata": {},
   "outputs": [
    {
     "name": "stdout",
     "output_type": "stream",
     "text": [
      "-0.200271\n"
     ]
    }
   ],
   "source": [
    "# Моделируем работу автомата 777\n",
    "# Машина состоит из трёх барабанов, их раскручивают и после остановки в окошках появляются три цифры в ряд\n",
    "\n",
    "# Количество попыток\n",
    "trials = 1000000    \n",
    "# Счёт игрока (количество денег, выигрыш или проигрыш)\n",
    "money = 0\n",
    "\n",
    "# Моделируем работу автомата заданное количество раз\n",
    "for i in range(trials):\n",
    "    # Платим 1 рубль\n",
    "    money -= 1\n",
    "    # Запускаем барабаны\n",
    "    reel1 = np.random.randint(0, 10)\n",
    "    reel2 = np.random.randint(0, 10)\n",
    "    reel3 = np.random.randint(0, 10)\n",
    "    # Считаем выигрыш\n",
    "    if (reel1 == 7) & (reel2 == 7) & (reel3 == 7):\n",
    "        money += 200\n",
    "    elif (reel1 == 9) & (reel2 == 9) & (reel3 == 9):\n",
    "        money += 100\n",
    "    elif (reel1 == 5) & (reel2 == 5) & (reel3 == 5):\n",
    "        money += 50\n",
    "    elif (reel1 == 3) & (reel2 == 3) & (reel3 == 3):\n",
    "        money += 15\n",
    "    elif (reel1 == 1) & (reel2 == 1) & (reel3 == 1):\n",
    "        money += 10\n",
    "    elif (reel2 == 7) & (reel3 == 7):\n",
    "        money += 5\n",
    "    elif (reel3 == 7):\n",
    "        money += 3\n",
    "    elif (reel2 == 0) & (reel3 == 0):\n",
    "        money += 2\n",
    "    elif (reel3 == 0):\n",
    "        money += 1\n",
    "\n",
    "# Игра не выгодна при большом количестве попыток        \n",
    "# Узнаем сколько в среднем теряем за одну игру\n",
    "print(money / trials)"
   ]
  },
  {
   "cell_type": "code",
   "execution_count": 200,
   "metadata": {},
   "outputs": [
    {
     "data": {
      "text/plain": [
       "-0.19999999999999996"
      ]
     },
     "execution_count": 200,
     "metadata": {},
     "output_type": "execute_result"
    }
   ],
   "source": [
    "# Рассчитаем теоретически работу автотмата 777\n",
    "\n",
    "# Количество всех возможных значений\n",
    "N = 1000\n",
    "# Вероятности выпадения комбинаций\n",
    "P_777 = 1 / N\n",
    "P_999 = 1 / N\n",
    "P_555 = 1 / N\n",
    "P_333 = 1 / N\n",
    "P_111 = 1 / N\n",
    "P_X77 = 9 / N # Одну комбинацию 777 учли ранее\n",
    "P_XX7 = 90 / N # Одну комбинацию 777 и 9 комбинаций Х77 учли ранее\n",
    "P_X00 = 10 / N\n",
    "P_XX0 = 90 / N # 10 комбинацй X00 учли ранее\n",
    "\n",
    "# Вероятность НЕ выпадения нужной комбинации\n",
    "P_loss = 1 - (P_777 + P_999 + P_555 + P_333 + P_111 + P_X77 + P_XX7 + P_X00 + P_XX0)\n",
    "\n",
    "# Складываем произведения вероятностей на сумму выигрыша, не забываем учесть, что за каждую попытку платим 1 рубль\n",
    "# Получаем средние потери за одну игру\n",
    "result = 199*P_777 + 99*P_999 + 49*P_555 + 14*P_333 + 9*P_111 + 4*P_X77 + 2*P_XX7 + 1*P_X00 + 0*P_XX0 - 1*P_loss\n",
    "\n",
    "# Теоретический расчёт весьма близок к результатам моделирования!\n",
    "result"
   ]
  }
 ],
 "metadata": {
  "kernelspec": {
   "display_name": "Python 3",
   "language": "python",
   "name": "python3"
  },
  "language_info": {
   "codemirror_mode": {
    "name": "ipython",
    "version": 3
   },
   "file_extension": ".py",
   "mimetype": "text/x-python",
   "name": "python",
   "nbconvert_exporter": "python",
   "pygments_lexer": "ipython3",
   "version": "3.8.5"
  }
 },
 "nbformat": 4,
 "nbformat_minor": 4
}
